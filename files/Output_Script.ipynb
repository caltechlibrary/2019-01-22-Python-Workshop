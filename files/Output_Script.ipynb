{
 "cells": [
  {
   "cell_type": "code",
   "execution_count": null,
   "metadata": {},
   "outputs": [],
   "source": [
    "import numpy\n",
    "import sys\n",
    "import glob\n",
    "import matplotlib.pyplot\n",
    "\n",
    "def analyze(filename):\n",
    "    \n",
    "    data = numpy.loadtxt(fname=filename, delimiter=',')\n",
    "\n",
    "    fig = matplotlib.pyplot.figure(figsize=(10.0,3.0))\n",
    "\n",
    "    axes1 = fig.add_subplot(1,3,1)\n",
    "    axes2 = fig.add_subplot(1,3,2)\n",
    "    axes3 = fig.add_subplot(1,3,3)\n",
    "\n",
    "    axes1.set_ylabel(\"average\")\n",
    "    axes1.plot(numpy.mean(data,axis=0))\n",
    "\n",
    "    axes2.set_ylabel(\"min\")\n",
    "    axes2.plot(numpy.min(data,axis=0))\n",
    "\n",
    "    axes3.set_ylabel(\"max\")\n",
    "    axes3.plot(numpy.max(data,axis=0))\n",
    "\n",
    "    fig.tight_layout()\n",
    "\n",
    "    matplotlib.pyplot.savefig(filename+'_fig.eps')\n",
    "    \n",
    "def detect_problems(f_name):\n",
    "    data = numpy.loadtxt(fname=f_name, delimiter=',')\n",
    "    if numpy.max(data, axis=0)[0] == 0 and numpy.max(data, axis=0)[20] == 20:\n",
    "        print(\"Suspicous looking maxima\")\n",
    "    elif numpy.sum(numpy.min(data,axis=0)) == 0:\n",
    "        print(\"Suspicous looking minima\")\n",
    "    else:\n",
    "        print(\"OK\")\n",
    "\n",
    "name = sys.argv[1]\n",
    "        \n",
    "filenames = sorted(glob.glob(name+'*.csv'))\n",
    "\n",
    "for f in filenames:\n",
    "    print(f)\n",
    "    analyze(f)\n",
    "    detect_problems(f)"
   ]
  }
 ],
 "metadata": {
  "kernelspec": {
   "display_name": "Python 3",
   "language": "python",
   "name": "python3"
  },
  "language_info": {
   "codemirror_mode": {
    "name": "ipython",
    "version": 3
   },
   "file_extension": ".py",
   "mimetype": "text/x-python",
   "name": "python",
   "nbconvert_exporter": "python",
   "pygments_lexer": "ipython3",
   "version": "3.7.1"
  }
 },
 "nbformat": 4,
 "nbformat_minor": 2
}
